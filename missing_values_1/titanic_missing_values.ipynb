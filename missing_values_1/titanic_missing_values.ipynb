{
 "cells": [
  {
   "cell_type": "markdown",
   "id": "4c9a4ab1-7fde-4d43-a5a2-267196a7fcb2",
   "metadata": {},
   "source": [
    "## Martyna Stajniak"
   ]
  },
  {
   "cell_type": "markdown",
   "id": "46e96199-6081-4158-845c-fc6d16efc0dc",
   "metadata": {},
   "source": [
    "### Analiza danych dotyczących katastrofy Tytanika - missing values\n",
    "**Opis zestawu danych:** \n",
    "- Pclass: Klasa pasażera (1, 2, 3).\n",
    "- Survived: Status przeżycia (0 = nie przeżył, 1 = przeżył).\n",
    "- Name: Imię i nazwisko pasażera.\n",
    "- Sex: Płeć pasażera (male = mężczyzna, female = kobieta).\n",
    "- Age: Wiek pasażera.\n",
    "- SibSp: Liczba rodzeństwa/małżonków na pokładzie.\n",
    "- Parch: Liczba rodziców/dzieci na pokładzie.\n",
    "- Ticket: Numer biletu.\n",
    "- Fare: Koszt biletu.\n",
    "- Cabin: Numer kabiny.\n",
    "- Embarked: Port załadunku (S = Southampton, C = Cherbourg, Q = Queenstown).\n",
    "- Boat: Numer łodzi ratunkowej.\n",
    "- Body: Numer ciała.\n",
    "- Home.dest: Miejsce przeznaczenia pasażera"
   ]
  },
  {
   "cell_type": "code",
   "execution_count": 179,
   "id": "bcbf20e2-a4d4-484e-825c-7295c3deb2f4",
   "metadata": {},
   "outputs": [],
   "source": [
    "import numpy as np\n",
    "import pandas as pd\n",
    "import matplotlib.pyplot as plt\n",
    "import seaborn as sns"
   ]
  },
  {
   "cell_type": "code",
   "execution_count": 180,
   "id": "94a08e77-b2ad-4b6f-b5ab-7a6e6454774b",
   "metadata": {},
   "outputs": [
    {
     "data": {
      "text/html": [
       "<div>\n",
       "<style scoped>\n",
       "    .dataframe tbody tr th:only-of-type {\n",
       "        vertical-align: middle;\n",
       "    }\n",
       "\n",
       "    .dataframe tbody tr th {\n",
       "        vertical-align: top;\n",
       "    }\n",
       "\n",
       "    .dataframe thead th {\n",
       "        text-align: right;\n",
       "    }\n",
       "</style>\n",
       "<table border=\"1\" class=\"dataframe\">\n",
       "  <thead>\n",
       "    <tr style=\"text-align: right;\">\n",
       "      <th></th>\n",
       "      <th>pclass</th>\n",
       "      <th>survived</th>\n",
       "      <th>name</th>\n",
       "      <th>sex</th>\n",
       "      <th>age</th>\n",
       "      <th>sibsp</th>\n",
       "      <th>parch</th>\n",
       "      <th>ticket</th>\n",
       "      <th>fare</th>\n",
       "      <th>cabin</th>\n",
       "      <th>embarked</th>\n",
       "      <th>boat</th>\n",
       "      <th>body</th>\n",
       "      <th>home.dest</th>\n",
       "    </tr>\n",
       "  </thead>\n",
       "  <tbody>\n",
       "    <tr>\n",
       "      <th>0</th>\n",
       "      <td>1</td>\n",
       "      <td>1</td>\n",
       "      <td>Allen, Miss. Elisabeth Walton</td>\n",
       "      <td>female</td>\n",
       "      <td>29.0000</td>\n",
       "      <td>0</td>\n",
       "      <td>0</td>\n",
       "      <td>24160</td>\n",
       "      <td>211.3375</td>\n",
       "      <td>B5</td>\n",
       "      <td>S</td>\n",
       "      <td>2</td>\n",
       "      <td>NaN</td>\n",
       "      <td>St Louis, MO</td>\n",
       "    </tr>\n",
       "    <tr>\n",
       "      <th>1</th>\n",
       "      <td>1</td>\n",
       "      <td>1</td>\n",
       "      <td>Allison, Master. Hudson Trevor</td>\n",
       "      <td>male</td>\n",
       "      <td>0.9167</td>\n",
       "      <td>1</td>\n",
       "      <td>2</td>\n",
       "      <td>113781</td>\n",
       "      <td>151.5500</td>\n",
       "      <td>C22 C26</td>\n",
       "      <td>S</td>\n",
       "      <td>11</td>\n",
       "      <td>NaN</td>\n",
       "      <td>Montreal, PQ / Chesterville, ON</td>\n",
       "    </tr>\n",
       "    <tr>\n",
       "      <th>2</th>\n",
       "      <td>1</td>\n",
       "      <td>0</td>\n",
       "      <td>Allison, Miss. Helen Loraine</td>\n",
       "      <td>female</td>\n",
       "      <td>2.0000</td>\n",
       "      <td>1</td>\n",
       "      <td>2</td>\n",
       "      <td>113781</td>\n",
       "      <td>151.5500</td>\n",
       "      <td>C22 C26</td>\n",
       "      <td>S</td>\n",
       "      <td>NaN</td>\n",
       "      <td>NaN</td>\n",
       "      <td>Montreal, PQ / Chesterville, ON</td>\n",
       "    </tr>\n",
       "    <tr>\n",
       "      <th>3</th>\n",
       "      <td>1</td>\n",
       "      <td>0</td>\n",
       "      <td>Allison, Mr. Hudson Joshua Creighton</td>\n",
       "      <td>male</td>\n",
       "      <td>30.0000</td>\n",
       "      <td>1</td>\n",
       "      <td>2</td>\n",
       "      <td>113781</td>\n",
       "      <td>151.5500</td>\n",
       "      <td>C22 C26</td>\n",
       "      <td>S</td>\n",
       "      <td>NaN</td>\n",
       "      <td>135.0</td>\n",
       "      <td>Montreal, PQ / Chesterville, ON</td>\n",
       "    </tr>\n",
       "    <tr>\n",
       "      <th>4</th>\n",
       "      <td>1</td>\n",
       "      <td>0</td>\n",
       "      <td>Allison, Mrs. Hudson J C (Bessie Waldo Daniels)</td>\n",
       "      <td>female</td>\n",
       "      <td>25.0000</td>\n",
       "      <td>1</td>\n",
       "      <td>2</td>\n",
       "      <td>113781</td>\n",
       "      <td>151.5500</td>\n",
       "      <td>C22 C26</td>\n",
       "      <td>S</td>\n",
       "      <td>NaN</td>\n",
       "      <td>NaN</td>\n",
       "      <td>Montreal, PQ / Chesterville, ON</td>\n",
       "    </tr>\n",
       "    <tr>\n",
       "      <th>5</th>\n",
       "      <td>1</td>\n",
       "      <td>1</td>\n",
       "      <td>Anderson, Mr. Harry</td>\n",
       "      <td>male</td>\n",
       "      <td>48.0000</td>\n",
       "      <td>0</td>\n",
       "      <td>0</td>\n",
       "      <td>19952</td>\n",
       "      <td>26.5500</td>\n",
       "      <td>E12</td>\n",
       "      <td>S</td>\n",
       "      <td>3</td>\n",
       "      <td>NaN</td>\n",
       "      <td>New York, NY</td>\n",
       "    </tr>\n",
       "    <tr>\n",
       "      <th>6</th>\n",
       "      <td>1</td>\n",
       "      <td>1</td>\n",
       "      <td>Andrews, Miss. Kornelia Theodosia</td>\n",
       "      <td>female</td>\n",
       "      <td>63.0000</td>\n",
       "      <td>1</td>\n",
       "      <td>0</td>\n",
       "      <td>13502</td>\n",
       "      <td>77.9583</td>\n",
       "      <td>D7</td>\n",
       "      <td>S</td>\n",
       "      <td>10</td>\n",
       "      <td>NaN</td>\n",
       "      <td>Hudson, NY</td>\n",
       "    </tr>\n",
       "    <tr>\n",
       "      <th>7</th>\n",
       "      <td>1</td>\n",
       "      <td>0</td>\n",
       "      <td>Andrews, Mr. Thomas Jr</td>\n",
       "      <td>male</td>\n",
       "      <td>39.0000</td>\n",
       "      <td>0</td>\n",
       "      <td>0</td>\n",
       "      <td>112050</td>\n",
       "      <td>0.0000</td>\n",
       "      <td>A36</td>\n",
       "      <td>S</td>\n",
       "      <td>NaN</td>\n",
       "      <td>NaN</td>\n",
       "      <td>Belfast, NI</td>\n",
       "    </tr>\n",
       "    <tr>\n",
       "      <th>8</th>\n",
       "      <td>1</td>\n",
       "      <td>1</td>\n",
       "      <td>Appleton, Mrs. Edward Dale (Charlotte Lamson)</td>\n",
       "      <td>female</td>\n",
       "      <td>53.0000</td>\n",
       "      <td>2</td>\n",
       "      <td>0</td>\n",
       "      <td>11769</td>\n",
       "      <td>51.4792</td>\n",
       "      <td>C101</td>\n",
       "      <td>S</td>\n",
       "      <td>D</td>\n",
       "      <td>NaN</td>\n",
       "      <td>Bayside, Queens, NY</td>\n",
       "    </tr>\n",
       "    <tr>\n",
       "      <th>9</th>\n",
       "      <td>1</td>\n",
       "      <td>0</td>\n",
       "      <td>Artagaveytia, Mr. Ramon</td>\n",
       "      <td>male</td>\n",
       "      <td>71.0000</td>\n",
       "      <td>0</td>\n",
       "      <td>0</td>\n",
       "      <td>PC 17609</td>\n",
       "      <td>49.5042</td>\n",
       "      <td>NaN</td>\n",
       "      <td>C</td>\n",
       "      <td>NaN</td>\n",
       "      <td>22.0</td>\n",
       "      <td>Montevideo, Uruguay</td>\n",
       "    </tr>\n",
       "    <tr>\n",
       "      <th>10</th>\n",
       "      <td>1</td>\n",
       "      <td>0</td>\n",
       "      <td>Astor, Col. John Jacob</td>\n",
       "      <td>male</td>\n",
       "      <td>47.0000</td>\n",
       "      <td>1</td>\n",
       "      <td>0</td>\n",
       "      <td>PC 17757</td>\n",
       "      <td>227.5250</td>\n",
       "      <td>C62 C64</td>\n",
       "      <td>C</td>\n",
       "      <td>NaN</td>\n",
       "      <td>124.0</td>\n",
       "      <td>New York, NY</td>\n",
       "    </tr>\n",
       "    <tr>\n",
       "      <th>11</th>\n",
       "      <td>1</td>\n",
       "      <td>1</td>\n",
       "      <td>Astor, Mrs. John Jacob (Madeleine Talmadge Force)</td>\n",
       "      <td>female</td>\n",
       "      <td>18.0000</td>\n",
       "      <td>1</td>\n",
       "      <td>0</td>\n",
       "      <td>PC 17757</td>\n",
       "      <td>227.5250</td>\n",
       "      <td>C62 C64</td>\n",
       "      <td>C</td>\n",
       "      <td>4</td>\n",
       "      <td>NaN</td>\n",
       "      <td>New York, NY</td>\n",
       "    </tr>\n",
       "    <tr>\n",
       "      <th>12</th>\n",
       "      <td>1</td>\n",
       "      <td>1</td>\n",
       "      <td>Aubart, Mme. Leontine Pauline</td>\n",
       "      <td>female</td>\n",
       "      <td>24.0000</td>\n",
       "      <td>0</td>\n",
       "      <td>0</td>\n",
       "      <td>PC 17477</td>\n",
       "      <td>69.3000</td>\n",
       "      <td>B35</td>\n",
       "      <td>C</td>\n",
       "      <td>9</td>\n",
       "      <td>NaN</td>\n",
       "      <td>Paris, France</td>\n",
       "    </tr>\n",
       "    <tr>\n",
       "      <th>13</th>\n",
       "      <td>1</td>\n",
       "      <td>1</td>\n",
       "      <td>Barber, Miss. Ellen 'Nellie'</td>\n",
       "      <td>female</td>\n",
       "      <td>26.0000</td>\n",
       "      <td>0</td>\n",
       "      <td>0</td>\n",
       "      <td>19877</td>\n",
       "      <td>78.8500</td>\n",
       "      <td>NaN</td>\n",
       "      <td>S</td>\n",
       "      <td>6</td>\n",
       "      <td>NaN</td>\n",
       "      <td>NaN</td>\n",
       "    </tr>\n",
       "    <tr>\n",
       "      <th>14</th>\n",
       "      <td>1</td>\n",
       "      <td>1</td>\n",
       "      <td>Barkworth, Mr. Algernon Henry Wilson</td>\n",
       "      <td>male</td>\n",
       "      <td>80.0000</td>\n",
       "      <td>0</td>\n",
       "      <td>0</td>\n",
       "      <td>27042</td>\n",
       "      <td>30.0000</td>\n",
       "      <td>A23</td>\n",
       "      <td>S</td>\n",
       "      <td>B</td>\n",
       "      <td>NaN</td>\n",
       "      <td>Hessle, Yorks</td>\n",
       "    </tr>\n",
       "    <tr>\n",
       "      <th>15</th>\n",
       "      <td>1</td>\n",
       "      <td>0</td>\n",
       "      <td>Baumann, Mr. John D</td>\n",
       "      <td>male</td>\n",
       "      <td>NaN</td>\n",
       "      <td>0</td>\n",
       "      <td>0</td>\n",
       "      <td>PC 17318</td>\n",
       "      <td>25.9250</td>\n",
       "      <td>NaN</td>\n",
       "      <td>S</td>\n",
       "      <td>NaN</td>\n",
       "      <td>NaN</td>\n",
       "      <td>New York, NY</td>\n",
       "    </tr>\n",
       "    <tr>\n",
       "      <th>16</th>\n",
       "      <td>1</td>\n",
       "      <td>0</td>\n",
       "      <td>Baxter, Mr. Quigg Edmond</td>\n",
       "      <td>male</td>\n",
       "      <td>24.0000</td>\n",
       "      <td>0</td>\n",
       "      <td>1</td>\n",
       "      <td>PC 17558</td>\n",
       "      <td>247.5208</td>\n",
       "      <td>B58 B60</td>\n",
       "      <td>C</td>\n",
       "      <td>NaN</td>\n",
       "      <td>NaN</td>\n",
       "      <td>Montreal, PQ</td>\n",
       "    </tr>\n",
       "    <tr>\n",
       "      <th>17</th>\n",
       "      <td>1</td>\n",
       "      <td>1</td>\n",
       "      <td>Baxter, Mrs. James (Helene DeLaudeniere Chaput)</td>\n",
       "      <td>female</td>\n",
       "      <td>50.0000</td>\n",
       "      <td>0</td>\n",
       "      <td>1</td>\n",
       "      <td>PC 17558</td>\n",
       "      <td>247.5208</td>\n",
       "      <td>B58 B60</td>\n",
       "      <td>C</td>\n",
       "      <td>6</td>\n",
       "      <td>NaN</td>\n",
       "      <td>Montreal, PQ</td>\n",
       "    </tr>\n",
       "    <tr>\n",
       "      <th>18</th>\n",
       "      <td>1</td>\n",
       "      <td>1</td>\n",
       "      <td>Bazzani, Miss. Albina</td>\n",
       "      <td>female</td>\n",
       "      <td>32.0000</td>\n",
       "      <td>0</td>\n",
       "      <td>0</td>\n",
       "      <td>11813</td>\n",
       "      <td>76.2917</td>\n",
       "      <td>D15</td>\n",
       "      <td>C</td>\n",
       "      <td>8</td>\n",
       "      <td>NaN</td>\n",
       "      <td>NaN</td>\n",
       "    </tr>\n",
       "    <tr>\n",
       "      <th>19</th>\n",
       "      <td>1</td>\n",
       "      <td>0</td>\n",
       "      <td>Beattie, Mr. Thomson</td>\n",
       "      <td>male</td>\n",
       "      <td>36.0000</td>\n",
       "      <td>0</td>\n",
       "      <td>0</td>\n",
       "      <td>13050</td>\n",
       "      <td>75.2417</td>\n",
       "      <td>C6</td>\n",
       "      <td>C</td>\n",
       "      <td>A</td>\n",
       "      <td>NaN</td>\n",
       "      <td>Winnipeg, MN</td>\n",
       "    </tr>\n",
       "  </tbody>\n",
       "</table>\n",
       "</div>"
      ],
      "text/plain": [
       "    pclass  survived                                               name  \\\n",
       "0        1         1                      Allen, Miss. Elisabeth Walton   \n",
       "1        1         1                     Allison, Master. Hudson Trevor   \n",
       "2        1         0                       Allison, Miss. Helen Loraine   \n",
       "3        1         0               Allison, Mr. Hudson Joshua Creighton   \n",
       "4        1         0    Allison, Mrs. Hudson J C (Bessie Waldo Daniels)   \n",
       "5        1         1                                Anderson, Mr. Harry   \n",
       "6        1         1                  Andrews, Miss. Kornelia Theodosia   \n",
       "7        1         0                             Andrews, Mr. Thomas Jr   \n",
       "8        1         1      Appleton, Mrs. Edward Dale (Charlotte Lamson)   \n",
       "9        1         0                            Artagaveytia, Mr. Ramon   \n",
       "10       1         0                             Astor, Col. John Jacob   \n",
       "11       1         1  Astor, Mrs. John Jacob (Madeleine Talmadge Force)   \n",
       "12       1         1                      Aubart, Mme. Leontine Pauline   \n",
       "13       1         1                       Barber, Miss. Ellen 'Nellie'   \n",
       "14       1         1               Barkworth, Mr. Algernon Henry Wilson   \n",
       "15       1         0                                Baumann, Mr. John D   \n",
       "16       1         0                           Baxter, Mr. Quigg Edmond   \n",
       "17       1         1    Baxter, Mrs. James (Helene DeLaudeniere Chaput)   \n",
       "18       1         1                              Bazzani, Miss. Albina   \n",
       "19       1         0                               Beattie, Mr. Thomson   \n",
       "\n",
       "       sex      age  sibsp  parch    ticket      fare    cabin embarked boat  \\\n",
       "0   female  29.0000      0      0     24160  211.3375       B5        S    2   \n",
       "1     male   0.9167      1      2    113781  151.5500  C22 C26        S   11   \n",
       "2   female   2.0000      1      2    113781  151.5500  C22 C26        S  NaN   \n",
       "3     male  30.0000      1      2    113781  151.5500  C22 C26        S  NaN   \n",
       "4   female  25.0000      1      2    113781  151.5500  C22 C26        S  NaN   \n",
       "5     male  48.0000      0      0     19952   26.5500      E12        S    3   \n",
       "6   female  63.0000      1      0     13502   77.9583       D7        S   10   \n",
       "7     male  39.0000      0      0    112050    0.0000      A36        S  NaN   \n",
       "8   female  53.0000      2      0     11769   51.4792     C101        S    D   \n",
       "9     male  71.0000      0      0  PC 17609   49.5042      NaN        C  NaN   \n",
       "10    male  47.0000      1      0  PC 17757  227.5250  C62 C64        C  NaN   \n",
       "11  female  18.0000      1      0  PC 17757  227.5250  C62 C64        C    4   \n",
       "12  female  24.0000      0      0  PC 17477   69.3000      B35        C    9   \n",
       "13  female  26.0000      0      0     19877   78.8500      NaN        S    6   \n",
       "14    male  80.0000      0      0     27042   30.0000      A23        S    B   \n",
       "15    male      NaN      0      0  PC 17318   25.9250      NaN        S  NaN   \n",
       "16    male  24.0000      0      1  PC 17558  247.5208  B58 B60        C  NaN   \n",
       "17  female  50.0000      0      1  PC 17558  247.5208  B58 B60        C    6   \n",
       "18  female  32.0000      0      0     11813   76.2917      D15        C    8   \n",
       "19    male  36.0000      0      0     13050   75.2417       C6        C    A   \n",
       "\n",
       "     body                        home.dest  \n",
       "0     NaN                     St Louis, MO  \n",
       "1     NaN  Montreal, PQ / Chesterville, ON  \n",
       "2     NaN  Montreal, PQ / Chesterville, ON  \n",
       "3   135.0  Montreal, PQ / Chesterville, ON  \n",
       "4     NaN  Montreal, PQ / Chesterville, ON  \n",
       "5     NaN                     New York, NY  \n",
       "6     NaN                       Hudson, NY  \n",
       "7     NaN                      Belfast, NI  \n",
       "8     NaN              Bayside, Queens, NY  \n",
       "9    22.0              Montevideo, Uruguay  \n",
       "10  124.0                     New York, NY  \n",
       "11    NaN                     New York, NY  \n",
       "12    NaN                    Paris, France  \n",
       "13    NaN                              NaN  \n",
       "14    NaN                    Hessle, Yorks  \n",
       "15    NaN                     New York, NY  \n",
       "16    NaN                     Montreal, PQ  \n",
       "17    NaN                     Montreal, PQ  \n",
       "18    NaN                              NaN  \n",
       "19    NaN                     Winnipeg, MN  "
      ]
     },
     "execution_count": 180,
     "metadata": {},
     "output_type": "execute_result"
    }
   ],
   "source": [
    "titanic_data = pd.read_csv('titanic.txt', na_values='?')\n",
    "titanic_data.head(20)"
   ]
  },
  {
   "cell_type": "markdown",
   "id": "2fcff121-2526-4323-b196-a6711bd9239b",
   "metadata": {},
   "source": [
    "Zbiór danych należy wczytać z odpowiednio ustawionym parametrem 'na_values', ponieważ wartości Nan są oznaczane przez '?'. Po wykonaniu tej czynności można użyć funkcji pd.isnull().sum() oraz pd.isnull().mean()."
   ]
  },
  {
   "cell_type": "code",
   "execution_count": 181,
   "id": "7001df55-b436-4453-bb17-0314187768d4",
   "metadata": {},
   "outputs": [
    {
     "data": {
      "text/plain": [
       "pclass          0\n",
       "survived        0\n",
       "name            0\n",
       "sex             0\n",
       "age           263\n",
       "sibsp           0\n",
       "parch           0\n",
       "ticket          0\n",
       "fare            1\n",
       "cabin        1014\n",
       "embarked        2\n",
       "boat          823\n",
       "body         1188\n",
       "home.dest     564\n",
       "dtype: int64"
      ]
     },
     "execution_count": 181,
     "metadata": {},
     "output_type": "execute_result"
    }
   ],
   "source": [
    "null_values = titanic_data.isnull().sum()\n",
    "null_values"
   ]
  },
  {
   "cell_type": "code",
   "execution_count": 182,
   "id": "678975d9-7494-4359-aa24-e41bc6c37cac",
   "metadata": {},
   "outputs": [
    {
     "data": {
      "text/plain": [
       "pclass       0.000000\n",
       "survived     0.000000\n",
       "name         0.000000\n",
       "sex          0.000000\n",
       "age          0.200917\n",
       "sibsp        0.000000\n",
       "parch        0.000000\n",
       "ticket       0.000000\n",
       "fare         0.000764\n",
       "cabin        0.774637\n",
       "embarked     0.001528\n",
       "boat         0.628724\n",
       "body         0.907563\n",
       "home.dest    0.430863\n",
       "dtype: float64"
      ]
     },
     "execution_count": 182,
     "metadata": {},
     "output_type": "execute_result"
    }
   ],
   "source": [
    "titanic_data.isnull().mean()"
   ]
  },
  {
   "cell_type": "code",
   "execution_count": 183,
   "id": "e214ece0-4da4-47d2-91ba-3231a1632f51",
   "metadata": {},
   "outputs": [
    {
     "name": "stdout",
     "output_type": "stream",
     "text": [
      "Procent wartości zerowych:\n",
      "pclass        0.000000\n",
      "survived      0.000000\n",
      "name          0.000000\n",
      "sex           0.000000\n",
      "age          20.091673\n",
      "sibsp         0.000000\n",
      "parch         0.000000\n",
      "ticket        0.000000\n",
      "fare          0.076394\n",
      "cabin        77.463713\n",
      "embarked      0.152788\n",
      "boat         62.872422\n",
      "body         90.756303\n",
      "home.dest    43.086325\n",
      "dtype: float64\n"
     ]
    }
   ],
   "source": [
    "null_percentage = null_values * 100 / len(titanic_data)\n",
    "print(f\"Procent wartości zerowych:\\n{null_percentage}\")\n"
   ]
  },
  {
   "cell_type": "markdown",
   "id": "6e664625-514c-456b-8fe6-ac4ceb367785",
   "metadata": {},
   "source": [
    "**Zmienne, dla których wartości Na jest więcej niż 0:** age, fare, cabin, embarked, boat, body, home.dest"
   ]
  },
  {
   "cell_type": "markdown",
   "id": "8d4a3604-c850-4a1d-80db-2ed7555e201c",
   "metadata": {},
   "source": [
    "**Zmienne z ilością wartości Na < 5%:** fare, embarked\n",
    "\n"
   ]
  },
  {
   "cell_type": "markdown",
   "id": "714ccf77-a6cd-48a5-b592-8c178e6c5071",
   "metadata": {},
   "source": [
    " **Zmienne z ilością wartości Na > 5%:** age, cabin, boat, body, home.dest"
   ]
  },
  {
   "cell_type": "code",
   "execution_count": 184,
   "id": "e0180426-b14d-4de2-a217-24964424e7b7",
   "metadata": {},
   "outputs": [
    {
     "data": {
      "image/png": "[encoded data removed]",
      "text/plain": [
       "<Figure size 1000x600 with 1 Axes>"
      ]
     },
     "metadata": {},
     "output_type": "display_data"
    }
   ],
   "source": [
    "plt.figure(figsize=(10,6))\n",
    "plt.barh(null_percentage.index, null_percentage.values, color='skyblue')\n",
    "plt.xlabel('Procent brakujących wartości')\n",
    "plt.ylabel('Kolumna')\n",
    "plt.title('Procent brakujących wartości w kolumnach\\n')\n",
    "plt.grid(axis='x', linestyle='--', alpha=0.7)"
   ]
  },
  {
   "cell_type": "markdown",
   "id": "80dfeeb1-3ca9-40cf-adbb-2cf3b7be44c2",
   "metadata": {},
   "source": [
    "### Klasyfikacja brakujących wartości do odpowiednich typów."
   ]
  },
  {
   "cell_type": "code",
   "execution_count": 185,
   "id": "c6fccc05-86e6-4643-84b7-f6400b77863e",
   "metadata": {},
   "outputs": [],
   "source": [
    "titanic_data['age_null'] = np.where(titanic_data['age'].isnull(), 1, 0)\n",
    "titanic_data['body_null'] = np.where(titanic_data['body'].isnull(), 1, 0)\n",
    "titanic_data['boat_null'] = np.where(titanic_data['boat'].isnull(), 1, 0)\n",
    "titanic_data['cabin_null'] = np.where(titanic_data['cabin'].isnull(), 1, 0)\n",
    "titanic_data['home_dest_null'] = np.where(titanic_data['home.dest'].isnull(), 1, 0)"
   ]
  },
  {
   "cell_type": "markdown",
   "id": "212ae26e-e178-487e-b342-cac64f6618df",
   "metadata": {},
   "source": [
    "### Kolumna body"
   ]
  },
  {
   "cell_type": "code",
   "execution_count": 186,
   "id": "3f92b7f3-9081-450b-b9bb-dc14178fa06a",
   "metadata": {},
   "outputs": [
    {
     "data": {
      "text/plain": [
       "survived\n",
       "0    0.850433\n",
       "1    1.000000\n",
       "Name: body, dtype: float64"
      ]
     },
     "execution_count": 186,
     "metadata": {},
     "output_type": "execute_result"
    }
   ],
   "source": [
    "titanic_data.groupby('survived')['body'].apply(lambda x: x.isnull().mean())"
   ]
  },
  {
   "cell_type": "markdown",
   "id": "0feda25d-23a3-4915-af82-3672b93a2d29",
   "metadata": {},
   "source": [
    "**Typ brakujących wartości:** MNAR <br> Z powyższego zestawienia wynika, że w przypadku osób, które przeżyły katastrofę, 100% z nich miało brakujące dane w kolumnie dotyczącej numeru ciała. Z kolei wśród osób, które nie przeżyły, 85% miało brakujące dane, co może sugerować, że ich ciała nie zostały odnalezione. Zatem brakujące dane w kolumnie 'body' nie są przypadkowe - MNAR."
   ]
  },
  {
   "cell_type": "code",
   "execution_count": 187,
   "id": "cfbbabaa-e860-48a5-a994-b6de2df031b0",
   "metadata": {},
   "outputs": [
    {
     "data": {
      "text/plain": [
       "<seaborn.axisgrid.FacetGrid at 0x1dc47bd9510>"
      ]
     },
     "execution_count": 187,
     "metadata": {},
     "output_type": "execute_result"
    },
    {
     "data": {
      "image/png": "[encoded data removed]",
      "text/plain": [
       "<Figure size 577.861x500 with 1 Axes>"
      ]
     },
     "metadata": {},
     "output_type": "display_data"
    }
   ],
   "source": [
    "sns.catplot( x =\"survived\", hue =\"body_null\",  kind =\"count\", data = titanic_data, palette = ['pink', 'red']).set(title='Wykres zestawiający informację czy pasażerowie przeżyli \\n z informacją o tym, czy ciało zostało oznaczone.\\n')"
   ]
  },
  {
   "cell_type": "markdown",
   "id": "199f6632-0550-4d91-8449-3b1b558a9976",
   "metadata": {},
   "source": [
    "### Kolumna boat"
   ]
  },
  {
   "cell_type": "code",
   "execution_count": 188,
   "id": "c961bb55-ae48-468b-b93d-efdc7e273f4e",
   "metadata": {},
   "outputs": [
    {
     "data": {
      "text/plain": [
       "survived\n",
       "0    0.988875\n",
       "1    0.046000\n",
       "Name: boat_null, dtype: float64"
      ]
     },
     "execution_count": 188,
     "metadata": {},
     "output_type": "execute_result"
    }
   ],
   "source": [
    "titanic_data.groupby(['survived'])['boat_null'].mean()"
   ]
  },
  {
   "cell_type": "markdown",
   "id": "cad742c5-48ed-4eba-bfc3-43729c89b3ca",
   "metadata": {},
   "source": [
    "**Typ brakujących wartości:** MNAR <br> W przypadku osób, które przeżyły katastrofę, zaledwie 5% z nich miało brakujące dane w kolumnie dotyczącej numeru łodzi ratunkowej. Z kolei wśród osób, które nie przeżyły, 99% miało brakujące dane. Tylko osoby, które przeżyły mają przypisany nr łodzi ratunkowej. Zatem brakujące dane w kolumnie 'boat' nie są przypadkowe - MNAR."
   ]
  },
  {
   "cell_type": "code",
   "execution_count": 189,
   "id": "76b5fc30-0558-45e2-8f6d-4b5f587928db",
   "metadata": {},
   "outputs": [
    {
     "data": {
      "text/plain": [
       "<seaborn.axisgrid.FacetGrid at 0x1dc47bd8c10>"
      ]
     },
     "execution_count": 189,
     "metadata": {},
     "output_type": "execute_result"
    },
    {
     "data": {
      "image/png": "[encoded data removed]",
      "text/plain": [
       "<Figure size 574.861x500 with 1 Axes>"
      ]
     },
     "metadata": {},
     "output_type": "display_data"
    }
   ],
   "source": [
    "sns.catplot( x =\"survived\", hue =\"boat_null\",  kind =\"count\", data = titanic_data, palette = ['lightblue', 'blue']).set(title='Wykres zestawiający informację czy pasażerowie przeżyli \\nz informacją o przypisanej przypisanej łodzi.\\n')"
   ]
  },
  {
   "cell_type": "markdown",
   "id": "60a8e892-f228-4a63-9c9b-1ddc010a2d0e",
   "metadata": {},
   "source": [
    "### Kolumna cabin"
   ]
  },
  {
   "cell_type": "code",
   "execution_count": 190,
   "id": "be1a9605-f4ce-4644-ad69-577379683ac6",
   "metadata": {},
   "outputs": [
    {
     "data": {
      "text/plain": [
       "pclass\n",
       "1    0.207430\n",
       "2    0.916968\n",
       "3    0.977433\n",
       "Name: cabin_null, dtype: float64"
      ]
     },
     "execution_count": 190,
     "metadata": {},
     "output_type": "execute_result"
    }
   ],
   "source": [
    "titanic_data.groupby(['pclass'])['cabin_null'].mean()"
   ]
  },
  {
   "cell_type": "markdown",
   "id": "d15acf27-abe7-4c61-9484-7e6fcfeedb2d",
   "metadata": {},
   "source": [
    "**Typ brakujących wartości:** MNAR <br> Brakujące wratości są powiązane z klasą jaką podróżowali uczestnicy rejsu. Dla pasażerów trzeciej klasy znajduje się aż 98% brakujących wartości, może być to spowodowane tym, że pasażerowie tej klasy nie mieli prywatnych kabin. Podobna sytuacja jest w przypadku pasażerów klasy drugiej, gdzie brakujących wartości jest 92%."
   ]
  },
  {
   "cell_type": "code",
   "execution_count": 191,
   "id": "3508bb60-a82e-445c-a31d-e3120721051c",
   "metadata": {},
   "outputs": [
    {
     "data": {
      "text/plain": [
       "<seaborn.axisgrid.FacetGrid at 0x1dc46b3be10>"
      ]
     },
     "execution_count": 191,
     "metadata": {},
     "output_type": "execute_result"
    },
    {
     "data": {
      "image/png": "[encoded data removed]",
      "text/plain": [
       "<Figure size 581.111x500 with 1 Axes>"
      ]
     },
     "metadata": {},
     "output_type": "display_data"
    }
   ],
   "source": [
    "sns.catplot(hue =\"cabin_null\", x =\"pclass\",  kind =\"count\", data = titanic_data, palette = ['lightgreen', 'green']).set(title='Wykres obrazujący klasę pasażerów z informacją o tym czy mieli kabinę.\\n')"
   ]
  },
  {
   "cell_type": "markdown",
   "id": "e999eabf-897c-41dc-8ac9-1356f213de7b",
   "metadata": {},
   "source": [
    "### Kolumna age"
   ]
  },
  {
   "cell_type": "code",
   "execution_count": 192,
   "id": "dc71aeaf-1282-47c1-93df-f9a6dc50eb02",
   "metadata": {},
   "outputs": [
    {
     "name": "stdout",
     "output_type": "stream",
     "text": [
      "Liczba rodzeństwa/małżonków na pokładzie.\n",
      " sibsp\n",
      "0    0.231201\n",
      "1    0.122257\n",
      "2    0.142857\n",
      "3    0.200000\n",
      "4    0.000000\n",
      "5    0.000000\n",
      "8    0.888889\n",
      "Name: age_null, dtype: float64 \n",
      "\n",
      "Liczba rodziców/dzieci na pokładzie.\n",
      " parch\n",
      "0    0.233533\n",
      "1    0.058824\n",
      "2    0.141593\n",
      "3    0.000000\n",
      "4    0.166667\n",
      "5    0.000000\n",
      "6    0.000000\n",
      "9    1.000000\n",
      "Name: age_null, dtype: float64\n"
     ]
    }
   ],
   "source": [
    "print('Liczba rodzeństwa/małżonków na pokładzie.\\n', titanic_data.groupby(['sibsp'])['age_null'].mean(), '\\n')\n",
    "print('Liczba rodziców/dzieci na pokładzie.\\n', titanic_data.groupby(['parch'])['age_null'].mean())"
   ]
  },
  {
   "cell_type": "markdown",
   "id": "f21c94a0-8d90-46fe-a3a1-1cf2572a48d7",
   "metadata": {},
   "source": [
    "**Typ brakujących wartości:** MAR <br> \n",
    "Barkujące wartości w kolumnie z informacjami o wieku, mogą wynikać z błędu przy rejestracji lub z trudności oszacownaia wieku."
   ]
  },
  {
   "cell_type": "markdown",
   "id": "dd1f1c28-cddc-4c22-95b3-92f3ab39aa3d",
   "metadata": {},
   "source": [
    "### Kolumna home.dest"
   ]
  },
  {
   "cell_type": "markdown",
   "id": "fc10341b-26bb-4afd-99cd-9d634b87c374",
   "metadata": {},
   "source": [
    "**Typ brakujących wartości:** MAR <br>\n",
    "Brakujące wratości w kolumnie z danymi o miejscu docelowym, może wynikać z błędów przy rejestracji lub z faktu, iż informacje nie zostały zebrane od wszystkich pasażerów. Brakujące wartości w dużej mierze ( 73% ) pojawiają się dla pasażerów trzeciej klasy."
   ]
  },
  {
   "cell_type": "code",
   "execution_count": 193,
   "id": "7e28fa4b-ac3b-47df-8136-f2e8f03d238e",
   "metadata": {},
   "outputs": [
    {
     "data": {
      "text/plain": [
       "pclass\n",
       "1    0.105263\n",
       "2    0.057762\n",
       "3    0.724965\n",
       "Name: home_dest_null, dtype: float64"
      ]
     },
     "execution_count": 193,
     "metadata": {},
     "output_type": "execute_result"
    }
   ],
   "source": [
    "titanic_data.groupby(['pclass'])['home_dest_null'].mean()"
   ]
  },
  {
   "cell_type": "code",
   "execution_count": 194,
   "id": "0f6f0f97-f233-413e-9447-aeab32a104d3",
   "metadata": {},
   "outputs": [
    {
     "data": {
      "text/plain": [
       "<seaborn.axisgrid.FacetGrid at 0x1dc48180810>"
      ]
     },
     "execution_count": 194,
     "metadata": {},
     "output_type": "execute_result"
    },
    {
     "data": {
      "image/png": "[encoded data removed]",
      "text/plain": [
       "<Figure size 619.611x500 with 1 Axes>"
      ]
     },
     "metadata": {},
     "output_type": "display_data"
    }
   ],
   "source": [
    "sns.catplot( x =\"pclass\", hue =\"home_dest_null\", kind =\"count\", data = titanic_data, palette = ['lightgray', 'gray']).set(title='Wykres obrazujący klasę pasażerów z informacją czy destynacja była określona.\\n')"
   ]
  },
  {
   "cell_type": "markdown",
   "id": "26476afa-6729-4873-ade3-51484d22469a",
   "metadata": {},
   "source": [
    "### Postępowanie w przypadku brakujących danych"
   ]
  },
  {
   "cell_type": "markdown",
   "id": "bf84b1cd-e38e-421a-9887-7a86b5a9721f",
   "metadata": {},
   "source": [
    "#### Brakujące dane, które nie mają znaczenia\n",
    "Jeżli liczba brakujących wratości jest mneijsza niż 5% liczby wszystkich danych (embarked, fare) - możemy je usunąć lub w zależności od rozkładu danych możemy zastąpić je wartością średnią lub medianą. \n",
    "- **Rozkład normalny** - używamy średniej lub mediany\n",
    "- **Rozkład skośny** - używamy mediany\n",
    "#### Brakujące dane, które mogą mieć znaczenie\n",
    "Jeżli brakujące wartości są związane z pewnym mechanizmem przyczynowo-skutkowym, możemy stworzyć nową cechę, która będzie uzupełniać nasze dane.\n"
   ]
  },
  {
   "cell_type": "code",
   "execution_count": null,
   "id": "3ae8bb7d-3adf-40ec-adb0-12dba28ee352",
   "metadata": {},
   "outputs": [],
   "source": []
  }
 ],
 "metadata": {
  "kernelspec": {
   "display_name": "Python 3 (ipykernel)",
   "language": "python",
   "name": "python3"
  },
  "language_info": {
   "codemirror_mode": {
    "name": "ipython",
    "version": 3
   },
   "file_extension": ".py",
   "mimetype": "text/x-python",
   "name": "python",
   "nbconvert_exporter": "python",
   "pygments_lexer": "ipython3",
   "version": "3.11.8"
  }
 },
 "nbformat": 4,
 "nbformat_minor": 5
}
